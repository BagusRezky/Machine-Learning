{
  "nbformat": 4,
  "nbformat_minor": 0,
  "metadata": {
    "colab": {
      "provenance": [],
      "gpuType": "T4",
      "include_colab_link": true
    },
    "kernelspec": {
      "name": "python3",
      "display_name": "Python 3"
    },
    "language_info": {
      "name": "python"
    },
    "accelerator": "GPU"
  },
  "cells": [
    {
      "cell_type": "markdown",
      "metadata": {
        "id": "view-in-github",
        "colab_type": "text"
      },
      "source": [
        "<a href=\"https://colab.research.google.com/github/BagusRezky/Machine-Learning/blob/main/11%20-%20CNN/Praktikum1.ipynb\" target=\"_parent\"><img src=\"https://colab.research.google.com/assets/colab-badge.svg\" alt=\"Open In Colab\"/></a>"
      ]
    },
    {
      "cell_type": "code",
      "source": [
        "from google.colab import drive\n",
        "drive.mount ('/content/drive')"
      ],
      "metadata": {
        "colab": {
          "base_uri": "https://localhost:8080/"
        },
        "id": "SghoF_LJiqDH",
        "outputId": "1322fc98-0c18-4768-9c75-f207af531423"
      },
      "execution_count": null,
      "outputs": [
        {
          "output_type": "stream",
          "name": "stdout",
          "text": [
            "Mounted at /content/drive\n"
          ]
        }
      ]
    },
    {
      "cell_type": "code",
      "source": [
        "import tensorflow as tf\n",
        "from keras.preprocessing.image import ImageDataGenerator"
      ],
      "metadata": {
        "id": "cbbpcEFyj_Zu"
      },
      "execution_count": null,
      "outputs": []
    },
    {
      "cell_type": "code",
      "source": [
        "train_datagen = ImageDataGenerator(rescale = 1./255,\n",
        "                                   shear_range = 0.2,\n",
        "                                   zoom_range = 0.2,\n",
        "                                   horizontal_flip = True)\n",
        "training_set = train_datagen.flow_from_directory('/content/drive/MyDrive/dataset/training_set',\n",
        "                                                 target_size = (64, 64),\n",
        "                                                 batch_size = 32,\n",
        "                                                 class_mode = 'binary')"
      ],
      "metadata": {
        "colab": {
          "base_uri": "https://localhost:8080/"
        },
        "id": "Yic6XTykl-yY",
        "outputId": "82f4ac8c-c209-43dd-8e0a-2a0a39c96498"
      },
      "execution_count": null,
      "outputs": [
        {
          "output_type": "stream",
          "name": "stdout",
          "text": [
            "Found 8006 images belonging to 2 classes.\n"
          ]
        }
      ]
    },
    {
      "cell_type": "code",
      "source": [
        "test_datagen = ImageDataGenerator(rescale = 1./255)\n",
        "test_set = test_datagen.flow_from_directory('/content/drive/MyDrive/dataset/test_set',target_size = (64, 64),batch_size = 32,class_mode = 'binary')"
      ],
      "metadata": {
        "colab": {
          "base_uri": "https://localhost:8080/"
        },
        "id": "1nFWwsSgGwIe",
        "outputId": "cbc034cc-a315-4f76-a848-dc5bab07d1b8"
      },
      "execution_count": null,
      "outputs": [
        {
          "output_type": "stream",
          "name": "stdout",
          "text": [
            "Found 2000 images belonging to 2 classes.\n"
          ]
        }
      ]
    },
    {
      "cell_type": "code",
      "source": [
        "cnn = tf.keras.models.Sequential()"
      ],
      "metadata": {
        "id": "XjCquIYeGyYD"
      },
      "execution_count": null,
      "outputs": []
    },
    {
      "cell_type": "code",
      "source": [
        "cnn.add(tf.keras.layers.Conv2D(filters=32, kernel_size=3, activation='relu', input_shape=[64, 64, 3]))"
      ],
      "metadata": {
        "id": "j3EJV28-G0uF"
      },
      "execution_count": null,
      "outputs": []
    },
    {
      "cell_type": "code",
      "source": [
        "cnn.add(tf.keras.layers.MaxPool2D(pool_size=2, strides=2))"
      ],
      "metadata": {
        "id": "tzDY9QzjG1fk"
      },
      "execution_count": null,
      "outputs": []
    },
    {
      "cell_type": "code",
      "source": [
        "cnn.add(tf.keras.layers.Conv2D(filters=32, kernel_size=3, activation='relu'))\n",
        "cnn.add(tf.keras.layers.MaxPool2D(pool_size=2, strides=2))"
      ],
      "metadata": {
        "id": "ptFWsPsKG796"
      },
      "execution_count": null,
      "outputs": []
    },
    {
      "cell_type": "code",
      "source": [
        "cnn.add(tf.keras.layers.Flatten())"
      ],
      "metadata": {
        "id": "Ii6uMcZnG-oC"
      },
      "execution_count": null,
      "outputs": []
    },
    {
      "cell_type": "code",
      "source": [
        "cnn.add(tf.keras.layers.Dense(units=128, activation='relu'))"
      ],
      "metadata": {
        "id": "jZQAbPR3HD7L"
      },
      "execution_count": null,
      "outputs": []
    },
    {
      "cell_type": "code",
      "source": [
        "cnn.add(tf.keras.layers.Dense(units=1, activation='sigmoid'))"
      ],
      "metadata": {
        "id": "t0xU0GiWHHCn"
      },
      "execution_count": null,
      "outputs": []
    },
    {
      "cell_type": "code",
      "source": [
        "cnn.compile(optimizer = 'adam', loss = 'binary_crossentropy', metrics = ['accuracy'])"
      ],
      "metadata": {
        "id": "HKxJYGDLHJsJ"
      },
      "execution_count": null,
      "outputs": []
    },
    {
      "cell_type": "code",
      "source": [
        "cnn.fit(x = training_set, validation_data = test_set, epochs = 25)"
      ],
      "metadata": {
        "colab": {
          "base_uri": "https://localhost:8080/"
        },
        "id": "_Pi38YT6HMhp",
        "outputId": "dbd6c256-f280-4480-eda3-8d51721fae2b"
      },
      "execution_count": null,
      "outputs": [
        {
          "output_type": "stream",
          "name": "stdout",
          "text": [
            "Epoch 1/25\n",
            "251/251 [==============================] - 1563s 6s/step - loss: 0.6635 - accuracy: 0.5911 - val_loss: 0.6161 - val_accuracy: 0.6760\n",
            "Epoch 2/25\n",
            "251/251 [==============================] - 34s 137ms/step - loss: 0.5991 - accuracy: 0.6771 - val_loss: 0.5807 - val_accuracy: 0.6900\n",
            "Epoch 3/25\n",
            "251/251 [==============================] - 35s 140ms/step - loss: 0.5501 - accuracy: 0.7172 - val_loss: 0.5302 - val_accuracy: 0.7365\n",
            "Epoch 4/25\n",
            "251/251 [==============================] - 35s 138ms/step - loss: 0.5177 - accuracy: 0.7398 - val_loss: 0.5012 - val_accuracy: 0.7600\n",
            "Epoch 5/25\n",
            "251/251 [==============================] - 35s 140ms/step - loss: 0.4940 - accuracy: 0.7556 - val_loss: 0.4930 - val_accuracy: 0.7740\n",
            "Epoch 6/25\n",
            "251/251 [==============================] - 35s 139ms/step - loss: 0.4827 - accuracy: 0.7663 - val_loss: 0.4848 - val_accuracy: 0.7775\n",
            "Epoch 7/25\n",
            "251/251 [==============================] - 34s 137ms/step - loss: 0.4605 - accuracy: 0.7780 - val_loss: 0.5007 - val_accuracy: 0.7745\n",
            "Epoch 8/25\n",
            "251/251 [==============================] - 35s 139ms/step - loss: 0.4463 - accuracy: 0.7879 - val_loss: 0.4912 - val_accuracy: 0.7700\n",
            "Epoch 9/25\n",
            "251/251 [==============================] - 34s 137ms/step - loss: 0.4468 - accuracy: 0.7848 - val_loss: 0.4544 - val_accuracy: 0.7875\n",
            "Epoch 10/25\n",
            "251/251 [==============================] - 35s 140ms/step - loss: 0.4284 - accuracy: 0.8000 - val_loss: 0.4678 - val_accuracy: 0.7840\n",
            "Epoch 11/25\n",
            "251/251 [==============================] - 34s 137ms/step - loss: 0.4174 - accuracy: 0.8069 - val_loss: 0.4740 - val_accuracy: 0.7900\n",
            "Epoch 12/25\n",
            "251/251 [==============================] - 35s 139ms/step - loss: 0.4074 - accuracy: 0.8086 - val_loss: 0.4527 - val_accuracy: 0.7970\n",
            "Epoch 13/25\n",
            "251/251 [==============================] - 35s 141ms/step - loss: 0.3936 - accuracy: 0.8181 - val_loss: 0.4609 - val_accuracy: 0.7835\n",
            "Epoch 14/25\n",
            "251/251 [==============================] - 35s 138ms/step - loss: 0.3772 - accuracy: 0.8325 - val_loss: 0.4407 - val_accuracy: 0.8105\n",
            "Epoch 15/25\n",
            "251/251 [==============================] - 34s 137ms/step - loss: 0.3680 - accuracy: 0.8328 - val_loss: 0.4751 - val_accuracy: 0.7850\n",
            "Epoch 16/25\n",
            "251/251 [==============================] - 35s 138ms/step - loss: 0.3623 - accuracy: 0.8356 - val_loss: 0.4395 - val_accuracy: 0.8030\n",
            "Epoch 17/25\n",
            "251/251 [==============================] - 35s 139ms/step - loss: 0.3430 - accuracy: 0.8455 - val_loss: 0.4463 - val_accuracy: 0.8010\n",
            "Epoch 18/25\n",
            "251/251 [==============================] - 35s 139ms/step - loss: 0.3343 - accuracy: 0.8526 - val_loss: 0.4539 - val_accuracy: 0.7985\n",
            "Epoch 19/25\n",
            "251/251 [==============================] - 35s 139ms/step - loss: 0.3195 - accuracy: 0.8587 - val_loss: 0.4976 - val_accuracy: 0.7890\n",
            "Epoch 20/25\n",
            "251/251 [==============================] - 35s 138ms/step - loss: 0.3068 - accuracy: 0.8657 - val_loss: 0.4697 - val_accuracy: 0.7990\n",
            "Epoch 21/25\n",
            "251/251 [==============================] - 35s 140ms/step - loss: 0.2940 - accuracy: 0.8730 - val_loss: 0.4661 - val_accuracy: 0.7935\n",
            "Epoch 22/25\n",
            "251/251 [==============================] - 35s 138ms/step - loss: 0.2849 - accuracy: 0.8756 - val_loss: 0.4914 - val_accuracy: 0.7940\n",
            "Epoch 23/25\n",
            "251/251 [==============================] - 35s 141ms/step - loss: 0.2697 - accuracy: 0.8855 - val_loss: 0.5209 - val_accuracy: 0.7920\n",
            "Epoch 24/25\n",
            "251/251 [==============================] - 34s 136ms/step - loss: 0.2632 - accuracy: 0.8867 - val_loss: 0.4676 - val_accuracy: 0.8040\n",
            "Epoch 25/25\n",
            "251/251 [==============================] - 35s 141ms/step - loss: 0.2524 - accuracy: 0.8955 - val_loss: 0.4961 - val_accuracy: 0.8055\n"
          ]
        },
        {
          "output_type": "execute_result",
          "data": {
            "text/plain": [
              "<keras.src.callbacks.History at 0x7ef6dda4a110>"
            ]
          },
          "metadata": {},
          "execution_count": 13
        }
      ]
    },
    {
      "cell_type": "code",
      "source": [
        "import numpy as np\n",
        "from keras.preprocessing import image\n",
        "test_image = image.load_img('/content/drive/MyDrive/dataset/single_prediction/cat_or_dog_1.jpg', target_size = (64, 64))\n",
        "test_image = image.img_to_array(test_image)\n",
        "test_image = np.expand_dims(test_image, axis = 0)\n",
        "result = cnn.predict(test_image)\n",
        "training_set.class_indices\n",
        "if result[0][0] == 1:\n",
        "  prediction = 'dog'\n",
        "else:\n",
        "  prediction = 'cat'"
      ],
      "metadata": {
        "colab": {
          "base_uri": "https://localhost:8080/"
        },
        "id": "9diOWkuiHQCC",
        "outputId": "ce45e69e-0ec3-4fa3-e195-810464b4f91b"
      },
      "execution_count": null,
      "outputs": [
        {
          "output_type": "stream",
          "name": "stdout",
          "text": [
            "1/1 [==============================] - 0s 218ms/step\n"
          ]
        }
      ]
    },
    {
      "cell_type": "code",
      "source": [
        "print (prediction)"
      ],
      "metadata": {
        "colab": {
          "base_uri": "https://localhost:8080/"
        },
        "id": "4cOWFwFXy2ml",
        "outputId": "fa48ed67-25d0-4658-bc72-b669aef266e4"
      },
      "execution_count": null,
      "outputs": [
        {
          "output_type": "stream",
          "name": "stdout",
          "text": [
            "dog\n"
          ]
        }
      ]
    }
  ]
}